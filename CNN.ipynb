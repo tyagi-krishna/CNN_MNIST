{
 "cells": [
  {
   "cell_type": "code",
   "execution_count": 24,
   "metadata": {},
   "outputs": [],
   "source": [
    "import torch \n",
    "import torch.nn as nn\n",
    "import torchvision.transforms as transforms\n",
    "import torchvision.datasets as dsets\n",
    "import matplotlib.pylab as plt\n",
    "import numpy as np"
   ]
  },
  {
   "cell_type": "code",
   "execution_count": 25,
   "metadata": {},
   "outputs": [],
   "source": [
    "IMAGE_SIZE = 16\n",
    "composed = transforms.Compose([transforms.Resize((IMAGE_SIZE, IMAGE_SIZE)), transforms.ToTensor()])\n",
    "train_dataset = dsets.MNIST(root='./data', train=True, download=True, transform=composed)\n",
    "validation_dataset = dsets.MNIST(root='./data', train=False, download=True, transform=composed)"
   ]
  },
  {
   "cell_type": "code",
   "execution_count": 14,
   "metadata": {},
   "outputs": [],
   "source": [
    "# class train(Dataset):\n",
    "#     def __init__(self):\n",
    "#         df = pd.read_csv('mnist_train.csv')\n",
    "#         self.x = torch.tensor(df.drop(['label'], axis=1).values)\n",
    "#         self.x = self.x.reshape(60000, 28, 28)\n",
    "#         self.y = torch.tensor(df['label'])\n",
    "#         self.samples = df.shape[0]\n",
    "        \n",
    "#     def __getitem__(self, index):\n",
    "#         x = self.x[index].reshape(28, 28)\n",
    "#         return x, self.y[index]\n",
    "    \n",
    "#     def __len__(self):\n",
    "#         return self.samples\n",
    "    \n",
    "# train_dataset = train()\n",
    "\n",
    "# train_dataloader = DataLoader(dataset=train_dataset, shuffle=True)"
   ]
  },
  {
   "cell_type": "code",
   "execution_count": 30,
   "metadata": {},
   "outputs": [],
   "source": [
    "class CNN(nn.Module):\n",
    "    def __init__(self):\n",
    "        super(CNN,self).__init__()\n",
    "        self.cnn1 = nn.Conv2d(in_channels=1, out_channels=16, kernel_size=5, stride=1, padding=2)\n",
    "        self.maxpool1 = nn.MaxPool2d(kernel_size=2)\n",
    "        self.cnn2 = nn.Conv2d(in_channels=16, out_channels=32, kernel_size=5, stride=1, padding=2)\n",
    "        self.maxpool2 = nn.MaxPool2d(kernel_size=2)\n",
    "        self.fc1 = nn.Linear(512,10)\n",
    "        \n",
    "    def forward(self,x):\n",
    "        x = self.cnn1(x)\n",
    "        x = torch.relu(x)\n",
    "        x = self.maxpool1(x)\n",
    "        x = self.cnn2(x)\n",
    "        x = torch.relu(x)\n",
    "        x = self.maxpool2(x)\n",
    "        x = x.view(x.size(0), -1)\n",
    "        x = self.fc1(x)\n",
    "        return x"
   ]
  },
  {
   "cell_type": "code",
   "execution_count": 31,
   "metadata": {},
   "outputs": [],
   "source": [
    "model = CNN()"
   ]
  },
  {
   "cell_type": "code",
   "execution_count": 32,
   "metadata": {},
   "outputs": [],
   "source": [
    "optimizer = torch.optim.RMSprop(model.parameters(), lr=0.01)\n",
    "criterion = nn.CrossEntropyLoss()\n",
    "train_loader = torch.utils.data.DataLoader(dataset=train_dataset, batch_size=100)\n",
    "validation_loader = torch.utils.data.DataLoader(dataset=validation_dataset, batch_size=5000)\n",
    "epochs = 1\n",
    "def train( model, optimizer, criterion, epochs):\n",
    "    cost = []\n",
    "    i = 0\n",
    "    total = 0\n",
    "    for epoch in range(epochs):\n",
    "        for x,y in train_loader:\n",
    "            i += 1\n",
    "            x = x.float()\n",
    "            yhat = model(x)\n",
    "            loss = criterion(yhat, y.long())\n",
    "            loss.backward()\n",
    "            optimizer.zero_grad()\n",
    "            optimizer.step()\n",
    "            total += loss.item()\n",
    "            if i%1000 == 0:\n",
    "                print(i, loss)\n",
    "        cost.append(total)\n",
    "        print(\"loss\", loss)\n",
    "        print(\"cost\", cost)\n",
    "    return cost"
   ]
  },
  {
   "cell_type": "code",
   "execution_count": 19,
   "metadata": {},
   "outputs": [],
   "source": [
    "# saving a model \n",
    "PATH = './cifar_net.pth'\n",
    "dict = model.state_dict()\n",
    "torch.save(dict, PATH)\n",
    "# model.load_state_dict(torch.load(PATH)) \n",
    "# can be used to load that model again"
   ]
  },
  {
   "cell_type": "code",
   "execution_count": 33,
   "metadata": {},
   "outputs": [
    {
     "name": "stdout",
     "output_type": "stream",
     "text": [
      "loss tensor(2.3013, grad_fn=<NllLossBackward0>)\n",
      "cost [1382.2224564552307]\n",
      "[1382.2224564552307]\n"
     ]
    }
   ],
   "source": [
    "cost = train( model, optimizer, criterion, epochs)\n",
    "print(cost)"
   ]
  },
  {
   "cell_type": "code",
   "execution_count": 21,
   "metadata": {},
   "outputs": [],
   "source": [
    "# class test(Dataset):\n",
    "#     def __init__(self):\n",
    "#         dataset = pd.read_csv('mnist_test.csv', dtype=float)\n",
    "#         self.x = torch.tensor(dataset.drop(['label'], axis=1).values)\n",
    "#         self.y = torch.tensor(dataset['label'].values)\n",
    "#         self.smaples = dataset.shape[0]\n",
    "        \n",
    "#     def __len__(self):\n",
    "#         return self.smaples\n",
    "    \n",
    "#     def __getitem__(self,index):\n",
    "#         x = self.x[index].reshape(28, 28)\n",
    "#         return x, self.y[index]\n",
    "    \n",
    "# test_dataset = test()\n",
    "\n",
    "# test_dataloader = DataLoader(dataset=test_dataset, shuffle=True)"
   ]
  },
  {
   "cell_type": "code",
   "execution_count": 37,
   "metadata": {},
   "outputs": [
    {
     "name": "stdout",
     "output_type": "stream",
     "text": [
      "0.098\n"
     ]
    }
   ],
   "source": [
    "def test():\n",
    "    accuracy_list=[]\n",
    "    N_test=len(validation_dataset)\n",
    "    correct=0\n",
    "    #perform a prediction on the validation  data  \n",
    "    for x_test, y_test in validation_loader:\n",
    "        z = model(x_test)\n",
    "        _, yhat = torch.max(z.data, 1)\n",
    "        correct += (yhat == y_test).sum().item()\n",
    "    accuracy = correct / N_test\n",
    "    accuracy_list.append(accuracy)\n",
    "    print(accuracy)\n",
    "test()"
   ]
  }
 ],
 "metadata": {
  "kernelspec": {
   "display_name": "Python 3",
   "language": "python",
   "name": "python3"
  },
  "language_info": {
   "codemirror_mode": {
    "name": "ipython",
    "version": 3
   },
   "file_extension": ".py",
   "mimetype": "text/x-python",
   "name": "python",
   "nbconvert_exporter": "python",
   "pygments_lexer": "ipython3",
   "version": "3.10.9"
  },
  "orig_nbformat": 4,
  "vscode": {
   "interpreter": {
    "hash": "fa4a27bd41d0cf36f9f9b9492b2f9e58daee837c50c5f70fb00801aa8329958e"
   }
  }
 },
 "nbformat": 4,
 "nbformat_minor": 2
}
